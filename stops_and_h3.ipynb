{
 "cells": [
  {
   "cell_type": "code",
   "execution_count": 1,
   "id": "971fc734-3c55-432d-a739-e4ac1fff48dc",
   "metadata": {},
   "outputs": [
    {
     "ename": "ModuleNotFoundError",
     "evalue": "No module named 'nomad'",
     "output_type": "error",
     "traceback": [
      "\u001b[0;31m---------------------------------------------------------------------------\u001b[0m",
      "\u001b[0;31mModuleNotFoundError\u001b[0m                       Traceback (most recent call last)",
      "Cell \u001b[0;32mIn [1], line 7\u001b[0m\n\u001b[1;32m      4\u001b[0m \u001b[38;5;28;01mimport\u001b[39;00m \u001b[38;5;21;01mmatplotlib\u001b[39;00m\u001b[38;5;21;01m.\u001b[39;00m\u001b[38;5;21;01mpyplot\u001b[39;00m \u001b[38;5;28;01mas\u001b[39;00m \u001b[38;5;21;01mplt\u001b[39;00m\n\u001b[1;32m      5\u001b[0m \u001b[38;5;28;01mfrom\u001b[39;00m \u001b[38;5;21;01mfunctools\u001b[39;00m \u001b[38;5;28;01mimport\u001b[39;00m partial\n\u001b[0;32m----> 7\u001b[0m \u001b[38;5;28;01mimport\u001b[39;00m \u001b[38;5;21;01mnomad\u001b[39;00m\u001b[38;5;21;01m.\u001b[39;00m\u001b[38;5;21;01mio\u001b[39;00m\u001b[38;5;21;01m.\u001b[39;00m\u001b[38;5;21;01mbase\u001b[39;00m \u001b[38;5;28;01mas\u001b[39;00m \u001b[38;5;21;01mloader\u001b[39;00m\n\u001b[1;32m      8\u001b[0m \u001b[38;5;28;01mimport\u001b[39;00m \u001b[38;5;21;01mnomad\u001b[39;00m\u001b[38;5;21;01m.\u001b[39;00m\u001b[38;5;21;01mfilters\u001b[39;00m \u001b[38;5;28;01mas\u001b[39;00m \u001b[38;5;21;01mfilters\u001b[39;00m\n\u001b[1;32m      9\u001b[0m \u001b[38;5;28;01mimport\u001b[39;00m \u001b[38;5;21;01mnomad\u001b[39;00m\u001b[38;5;21;01m.\u001b[39;00m\u001b[38;5;21;01mstop_detection\u001b[39;00m\u001b[38;5;21;01m.\u001b[39;00m\u001b[38;5;21;01mgrid_based\u001b[39;00m \u001b[38;5;28;01mas\u001b[39;00m \u001b[38;5;21;01msd\u001b[39;00m\n",
      "\u001b[0;31mModuleNotFoundError\u001b[0m: No module named 'nomad'"
     ]
    }
   ],
   "source": [
    "import pandas as pd\n",
    "import numpy as np\n",
    "from datetime import datetime, date, timedelta\n",
    "import matplotlib.pyplot as plt\n",
    "from functools import partial\n",
    "\n",
    "import nomad.io.base as loader\n",
    "import nomad.filters as filters\n",
    "import nomad.stop_detection.grid_based as sd\n",
    "import seaborn as sns"
   ]
  },
  {
   "cell_type": "code",
   "execution_count": 2,
   "id": "530edab8-5aa7-43d3-a72c-73742b68dfea",
   "metadata": {},
   "outputs": [],
   "source": [
    "def numerical_date_range(start_date: int, end_date: int):\n",
    "    \"\"\"Return every calendar day from start_date to end_date inclusive, each as an int YYYYMMDD.\"\"\"\n",
    "    s = str(start_date)\n",
    "    e = str(end_date)\n",
    "    start_dt = date(int(s[:4]), int(s[4:6]), int(s[6:]))\n",
    "    end_dt   = date(int(e[:4]), int(e[4:6]), int(e[6:]))\n",
    "    if start_dt > end_dt:\n",
    "        raise ValueError(\"start_date must not be after end_date\")\n",
    "    span = (end_dt - start_dt).days\n",
    "    return [int((start_dt + timedelta(days=i)).strftime(\"%Y%m%d\")) for i in range(span + 1)]"
   ]
  },
  {
   "cell_type": "code",
   "execution_count": 3,
   "id": "4891205d-f11e-4f45-90e7-7a73b1e84271",
   "metadata": {},
   "outputs": [
    {
     "data": {
      "text/plain": [
       "Index(['cuebiq_id', 'event_timestamp', 'event_zoned_datetime', 'lng', 'lat',\n",
       "       'accuracy_meters', 'classification_type', 'zipcode_id', 'provider',\n",
       "       'processing_date'],\n",
       "      dtype='object')"
      ]
     },
     "execution_count": 3,
     "metadata": {},
     "output_type": "execute_result"
    }
   ],
   "source": [
    "loader.table_columns('BASELINE_PINGS_BY_NIGHTS', format='parquet')"
   ]
  },
  {
   "cell_type": "markdown",
   "id": "cd35514d-2b22-4aa6-9172-b08b8eab143f",
   "metadata": {
    "tags": []
   },
   "source": [
    "## 1. Downsample and attach h3 and zipcode"
   ]
  },
  {
   "cell_type": "markdown",
   "id": "c424fe90-21ea-46dc-89bc-ca8eac423af4",
   "metadata": {},
   "source": [
    "### baseline"
   ]
  },
  {
   "cell_type": "code",
   "execution_count": null,
   "id": "849af58f-aac2-497c-bd25-a3b73db5d86f",
   "metadata": {},
   "outputs": [],
   "source": [
    "num_dates = numerical_date_range(20241126, 20250107)\n",
    "dates = pd.date_range('2024-11-26', '2025-01-07').astype(str).tolist()\n",
    "\n",
    "skipped_dates = [dates[5*i] for i in range(9)]+ [dates[-1]]\n",
    "skipped_dates_num = [num_dates[5*i] for i in range(9)]+ [num_dates[-1]]\n",
    "\n",
    "filter_lists = [[(\"processing_date\", \">=\", skipped_dates_num[j]), (\"event_zoned_datetime\", \">=\", skipped_dates[j]),\n",
    "                 (\"event_zoned_datetime\", \"<\", skipped_dates[j+1])] for j in range(len(skipped_dates)-1)]"
   ]
  },
  {
   "cell_type": "code",
   "execution_count": null,
   "id": "70372f3e-d992-4eb4-96f5-5d365c772c90",
   "metadata": {},
   "outputs": [],
   "source": [
    "results = []\n",
    "for fltrs in filter_lists:\n",
    "    df = loader.from_file('BASELINE_PINGS_BY_NIGHTS',\n",
    "                          format='parquet',\n",
    "                          latitude='lat',\n",
    "                          longitude='lng',\n",
    "                          timestamp='event_timestamp',\n",
    "                          datetime='event_zoned_datetime',\n",
    "                          filters=fltrs)\n",
    "    if len(df)==0:\n",
    "        continue\n",
    "    df = filters.downsample(df, periods=4, freq='min', timestamp='event_timestamp', user_id='cuebiq_id')\n",
    "    df['h3_cell'] = filters.to_tessellation(df, index=\"h3\", res=8, longitude=\"lng\", latitude=\"lat\")\n",
    "    df['date'] = df.event_zoned_datetime.astype(\"str\").str[:10]\n",
    "    results += [df]\n",
    "\n",
    "df = pd.concat(results, ignore_index=True)"
   ]
  },
  {
   "cell_type": "code",
   "execution_count": null,
   "id": "abac5310-3707-4b38-bd7e-75c8341efaeb",
   "metadata": {},
   "outputs": [],
   "source": [
    "loader.to_file(df, \"./base_pings_h3/\", format=\"parquet\", partition_by=[\"date\"],\n",
    "               latitude=\"lat\", longitude=\"lng\", timestamp=\"event_timestamp\")"
   ]
  },
  {
   "cell_type": "markdown",
   "id": "e0f7055a-16ea-4a01-b6e9-4cca4974f886",
   "metadata": {},
   "source": [
    "### feb_apr"
   ]
  },
  {
   "cell_type": "code",
   "execution_count": null,
   "id": "b7652e7b-b56b-410e-9bb7-94975bd85f31",
   "metadata": {},
   "outputs": [],
   "source": [
    "num_dates = numerical_date_range(20250219, 20250402)\n",
    "dates = pd.date_range('2025-02-19', '2025-04-02').astype(str).tolist()\n",
    "\n",
    "skipped_dates = [dates[5*i] for i in range(9)]+ [dates[-1]]\n",
    "skipped_dates_num = [num_dates[5*i] for i in range(9)]+ [num_dates[-1]]\n",
    "\n",
    "filter_lists = [[(\"processing_date\", \">=\", skipped_dates_num[j]), (\"event_zoned_datetime\", \">=\", skipped_dates[j]),\n",
    "                 (\"event_zoned_datetime\", \"<\", skipped_dates[j+1])] for j in range(len(skipped_dates)-1)]"
   ]
  },
  {
   "cell_type": "code",
   "execution_count": null,
   "id": "bb66afb5-54f4-4344-9b66-f56e33b44d9d",
   "metadata": {},
   "outputs": [],
   "source": [
    "results = []\n",
    "for fltrs in filter_lists:\n",
    "    df = loader.from_file('FEB_APR_PINGS_BY_NIGHTS',\n",
    "                          format='parquet',\n",
    "                          latitude='lat',\n",
    "                          longitude='lng',\n",
    "                          timestamp='event_timestamp',\n",
    "                          datetime='event_zoned_datetime',\n",
    "                          filters=fltrs)\n",
    "    if len(df)==0:\n",
    "        continue\n",
    "    df = filters.downsample(df, periods=4, freq='min', timestamp='event_timestamp', user_id='cuebiq_id')\n",
    "    df['h3_cell'] = filters.to_tessellation(df, index=\"h3\", res=8, longitude=\"lng\", latitude=\"lat\")\n",
    "    df['date'] = df.event_zoned_datetime.astype(\"str\").str[:10]\n",
    "    results += [df]\n",
    "\n",
    "df = pd.concat(results, ignore_index=True)"
   ]
  },
  {
   "cell_type": "code",
   "execution_count": null,
   "id": "b6fe6156-603a-479d-8a71-4dad9e185a42",
   "metadata": {},
   "outputs": [],
   "source": [
    "loader.to_file(df, \"./feb_apr_pings_h3/\", format=\"parquet\", partition_by=[\"date\"],\n",
    "               latitude=\"lat\", longitude=\"lng\", timestamp=\"event_timestamp\")"
   ]
  },
  {
   "cell_type": "markdown",
   "id": "11fb2e90-5e96-4c3b-a400-4d3f7dd525ec",
   "metadata": {
    "tags": []
   },
   "source": [
    "### jan_feb"
   ]
  },
  {
   "cell_type": "code",
   "execution_count": null,
   "id": "5ba71577-ca48-441c-bf50-23e4674a47c8",
   "metadata": {},
   "outputs": [],
   "source": [
    "num_dates = numerical_date_range(20250112, 20250223)\n",
    "dates = pd.date_range('2025-01-12', '2025-02-23').astype(str).tolist()\n",
    "\n",
    "skipped_dates = [dates[5*i] for i in range(9)]+ [dates[-1]]\n",
    "skipped_dates_num = [num_dates[5*i] for i in range(9)]+ [num_dates[-1]]\n",
    "\n",
    "filter_lists = [[(\"processing_date\", \">=\", skipped_dates_num[j]), (\"event_zoned_datetime\", \">=\", skipped_dates[j]),\n",
    "                 (\"event_zoned_datetime\", \"<\", skipped_dates[j+1])] for j in range(len(skipped_dates)-1)]"
   ]
  },
  {
   "cell_type": "code",
   "execution_count": null,
   "id": "06825661-0fdd-4d02-b14e-936052bdcde6",
   "metadata": {},
   "outputs": [],
   "source": [
    "results = []\n",
    "for fltrs in filter_lists:\n",
    "    df = loader.from_file('JAN_FEB_PINGS_BY_NIGHTS',\n",
    "                          format='parquet',\n",
    "                          latitude='lat',\n",
    "                          longitude='lng',\n",
    "                          timestamp='event_timestamp',\n",
    "                          datetime='event_zoned_datetime',\n",
    "                          filters=fltrs)\n",
    "    if len(df)==0:\n",
    "        continue\n",
    "    df = filters.downsample(df, periods=4, freq='min', timestamp='event_timestamp', user_id='cuebiq_id')\n",
    "    df['h3_cell'] = filters.to_tessellation(df, index=\"h3\", res=8, longitude=\"lng\", latitude=\"lat\")\n",
    "    df['date'] = df.event_zoned_datetime.astype(\"str\").str[:10]\n",
    "    results += [df]\n",
    "\n",
    "df = pd.concat(results, ignore_index=True)"
   ]
  },
  {
   "cell_type": "code",
   "execution_count": null,
   "id": "bf445785-8c2e-4411-bed7-9e014eb72fe0",
   "metadata": {},
   "outputs": [],
   "source": [
    "loader.to_file(df, \"./jan_feb_pings_h3/\", format=\"parquet\", partition_by=[\"date\"],\n",
    "               latitude=\"lat\", longitude=\"lng\", timestamp=\"event_timestamp\")"
   ]
  },
  {
   "cell_type": "markdown",
   "id": "874667ee-dc56-4dfe-99dd-282842cc381a",
   "metadata": {
    "tags": []
   },
   "source": [
    "## 2. Produce plots of completeness"
   ]
  },
  {
   "cell_type": "code",
   "execution_count": null,
   "id": "c4a62a29-516e-499d-a83b-d4e83809548a",
   "metadata": {},
   "outputs": [],
   "source": [
    "tc = dict(\n",
    "      latitude='lat',\n",
    "      longitude='lng',\n",
    "      timestamp='event_timestamp',\n",
    "      datetime='event_zoned_datetime',\n",
    "      date='date',\n",
    "      user_id='cuebiq_id'\n",
    ")"
   ]
  },
  {
   "cell_type": "markdown",
   "id": "d3ba89a4-ad35-4d2d-998c-26baa3814706",
   "metadata": {},
   "source": [
    "### baseline period"
   ]
  },
  {
   "cell_type": "code",
   "execution_count": null,
   "id": "46836199-d559-4e86-8346-028a43b99cd5",
   "metadata": {},
   "outputs": [],
   "source": [
    "df = loader.from_file('base_pings_h3',\n",
    "                      format='parquet',\n",
    "                      traj_cols=tc)"
   ]
  },
  {
   "cell_type": "code",
   "execution_count": null,
   "id": "0a46e759-cd97-45b0-915b-824779cd3d24",
   "metadata": {},
   "outputs": [],
   "source": [
    "Q = filters.coverage_matrix(df, periods=1, freq='h', traj_cols=tc, str_from_time=True)"
   ]
  },
  {
   "cell_type": "code",
   "execution_count": null,
   "id": "5a0aa278-b6dc-4c7a-aadd-ad2ebe8571d0",
   "metadata": {},
   "outputs": [],
   "source": [
    "print(Q.index)\n",
    "print(order.index)"
   ]
  },
  {
   "cell_type": "code",
   "execution_count": null,
   "id": "0fb71b28-ec53-4a89-8368-1e34e830593a",
   "metadata": {},
   "outputs": [],
   "source": [
    "Q = filters.coverage_matrix(df, periods=1, freq='h', traj_cols=tc, str_from_time=True)\n",
    "completeness_hourly = Q.mean(1)\n",
    "order = completeness_hourly.argsort(-1)\n",
    "Q = Q.iloc[order]\n",
    "\n",
    "fig, ax = plt.subplots(figsize=(12, 3))\n",
    "Q.columns = pd.to_datetime(Q.columns)\n",
    "\n",
    "ax.pcolormesh(Q.columns, range(len(Q)), Q.values,               # plot matrix\n",
    "               cmap='Blues', shading='auto')\n",
    "\n",
    "ax.set_yticks([])\n",
    "ax.set_ylabel('User')\n",
    "ax.set_title('Activity each hour (coverage matrix)')\n",
    "plt.show()"
   ]
  },
  {
   "cell_type": "code",
   "execution_count": null,
   "id": "41064cd4-8c3a-407b-b370-b93382a2c2e4",
   "metadata": {},
   "outputs": [],
   "source": [
    "#fig.savefig('completeness_matrix_baseline.svg', format='svg')"
   ]
  },
  {
   "cell_type": "code",
   "execution_count": null,
   "id": "a72c9775-7615-475b-b46c-5fcb7539bed2",
   "metadata": {},
   "outputs": [],
   "source": [
    "q_15m = filters.completeness(df, periods=15, freq='min', traj_cols=tc)\n",
    "q_hourly = filters.completeness(df, periods=1, freq='h', traj_cols=tc)\n",
    "q_daily = filters.completeness(df, periods=1, freq='d', traj_cols=tc)\n",
    "\n",
    "fig, (ax1, ax2, ax3) = plt.subplots(1, 3, sharey=True, figsize=(12, 3))\n",
    "\n",
    "sns.kdeplot(q_15m, ax=ax1, bw_adjust=0.25, fill=True)\n",
    "ax1.axvline(q_15m.median(), color='k', linestyle='--', linewidth=1)\n",
    "ax1.set_title('Completeness (15 min)')\n",
    "ax1.set_ylabel('Density')\n",
    "ax1.set_xlim((0,1))\n",
    "\n",
    "sns.kdeplot(q_hourly, ax=ax2, bw_adjust=0.25, fill=True)\n",
    "ax2.axvline(q_hourly.median(), color='k', linestyle='--', linewidth=1)\n",
    "ax2.set_title('Completeness (Hourly)')\n",
    "ax2.set_xlim((0,1))\n",
    "\n",
    "sns.kdeplot(q_daily, ax=ax3, bw_adjust=0.25, fill=True)\n",
    "ax3.axvline(q_daily.median(), color='k', linestyle='--', linewidth=1)\n",
    "ax3.set_title('Completeness (Daily)')\n",
    "ax3.set_xlim((0,1))\n",
    "\n",
    "[ax.grid() for ax in (ax1, ax2, ax3)]\n",
    "plt.show()"
   ]
  },
  {
   "cell_type": "code",
   "execution_count": null,
   "id": "6b5e30db-ccde-4509-96b8-91515cd20bdc",
   "metadata": {},
   "outputs": [],
   "source": [
    "#fig.savefig('completeness_density_baseline.svg', format='svg')"
   ]
  },
  {
   "cell_type": "markdown",
   "id": "8afbae15-4b6c-46ef-bd6a-19b4116043a2",
   "metadata": {},
   "source": [
    "### jan-feb"
   ]
  },
  {
   "cell_type": "code",
   "execution_count": null,
   "id": "f6fc153a-6faa-4c67-8f52-54060061ce7d",
   "metadata": {},
   "outputs": [],
   "source": [
    "df = loader.from_file('jan_feb_pings_h3',\n",
    "                      format='parquet',\n",
    "                      traj_cols=tc)"
   ]
  },
  {
   "cell_type": "code",
   "execution_count": null,
   "id": "e4482b48-0039-41ea-9c7f-423684c2dfc9",
   "metadata": {},
   "outputs": [],
   "source": [
    "Q = filters.coverage_matrix(df, periods=1, freq='h', traj_cols=tc, str_from_time=True)\n",
    "Q = Q.reindex(order.index).fillna(0).iloc[order]\n",
    "\n",
    "fig, ax = plt.subplots(figsize=(15, 4))\n",
    "Q.columns = pd.to_datetime(Q.columns)\n",
    "\n",
    "ax.pcolormesh(Q.columns, range(len(Q)), Q.values,               # plot matrix\n",
    "               cmap='Oranges', shading='auto')\n",
    "\n",
    "ax.set_yticks([])\n",
    "ax.set_ylabel('User')\n",
    "ax.set_title('Activity each hour (coverage matrix)')\n",
    "plt.show()"
   ]
  },
  {
   "cell_type": "code",
   "execution_count": null,
   "id": "50b45320-aaf0-43fe-b9e8-87dbac59dd8b",
   "metadata": {},
   "outputs": [],
   "source": [
    "fig.savefig('completeness_matrix_jan_feb.svg', format='svg')"
   ]
  },
  {
   "cell_type": "code",
   "execution_count": null,
   "id": "02a868e0-0abe-4582-839a-6049bdcc7c5a",
   "metadata": {},
   "outputs": [],
   "source": [
    "q_15m = filters.completeness(df, periods=15, freq='min', traj_cols=tc).reindex(order.index).fillna(0)\n",
    "q_hourly = filters.completeness(df, periods=1, freq='h', traj_cols=tc).reindex(order.index).fillna(0)\n",
    "q_daily = filters.completeness(df, periods=1, freq='d', traj_cols=tc).reindex(order.index).fillna(0)\n",
    "\n",
    "fig, (ax1, ax2, ax3) = plt.subplots(1, 3, sharey=True, figsize=(12, 3))\n",
    "\n",
    "sns.kdeplot(q_15m, ax=ax1, bw_adjust=0.25, fill=True, color=\"orange\")\n",
    "ax1.axvline(q_15m.median(), color='k', linestyle='--', linewidth=1)\n",
    "ax1.set_title('Completeness (15 min)')\n",
    "ax1.set_ylabel('Density')\n",
    "ax1.set_xlim((0,1))\n",
    "\n",
    "sns.kdeplot(q_hourly, ax=ax2, bw_adjust=0.25, fill=True, color=\"orange\")\n",
    "ax2.axvline(q_hourly.median(), color='k', linestyle='--', linewidth=1)\n",
    "ax2.set_title('Completeness (Hourly)')\n",
    "ax2.set_xlim((0,1))\n",
    "\n",
    "sns.kdeplot(q_daily, ax=ax3, bw_adjust=0.25, fill=True, color=\"orange\")\n",
    "ax3.axvline(q_daily.median(), color='k', linestyle='--', linewidth=1)\n",
    "ax3.set_title('Completeness (Daily)')\n",
    "ax3.set_xlim((0,1))\n",
    "\n",
    "[ax.grid() for ax in (ax1, ax2, ax3)]\n",
    "plt.show()"
   ]
  },
  {
   "cell_type": "code",
   "execution_count": null,
   "id": "9db13626-f15b-4a24-a47c-ee5503daf009",
   "metadata": {},
   "outputs": [],
   "source": [
    "#fig.savefig('completeness_density_jan_feb.svg', format='svg')"
   ]
  },
  {
   "cell_type": "markdown",
   "id": "64274fec-2fab-4cce-982a-45235cbb4a3c",
   "metadata": {
    "tags": []
   },
   "source": [
    "### feb-apr"
   ]
  },
  {
   "cell_type": "code",
   "execution_count": null,
   "id": "5ffa2cbe-1f9f-4d2a-aa23-b22c807602d1",
   "metadata": {},
   "outputs": [],
   "source": [
    "df = loader.from_file('feb_apr_pings_h3',\n",
    "                      format='parquet',\n",
    "                      traj_cols=tc)"
   ]
  },
  {
   "cell_type": "code",
   "execution_count": null,
   "id": "1d13104d-b9f5-471c-8622-785c6c654680",
   "metadata": {},
   "outputs": [],
   "source": [
    "Q = filters.coverage_matrix(df, periods=1, freq='h', traj_cols=tc, str_from_time=True)\n",
    "Q = Q.reindex(order.index).fillna(0).iloc[order]\n",
    "\n",
    "fig, ax = plt.subplots(figsize=(15, 4))\n",
    "Q.columns = pd.to_datetime(Q.columns)\n",
    "\n",
    "ax.pcolormesh(Q.columns, range(len(Q)), Q.values,               # plot matrix\n",
    "               cmap='Greens', shading='auto')\n",
    "\n",
    "ax.set_yticks([])\n",
    "ax.set_ylabel('User')\n",
    "ax.set_title('Activity each hour (coverage matrix)')\n",
    "plt.show()"
   ]
  },
  {
   "cell_type": "code",
   "execution_count": null,
   "id": "8ff883de-5097-4bd6-a2b1-fda7238b9012",
   "metadata": {},
   "outputs": [],
   "source": [
    "fig.savefig('completeness_matrix_feb_apr.svg', format='svg')"
   ]
  },
  {
   "cell_type": "code",
   "execution_count": null,
   "id": "34aa7607-6345-4b2e-b235-6492e73e7e7e",
   "metadata": {},
   "outputs": [],
   "source": [
    "q_15m = filters.completeness(df, periods=15, freq='min', traj_cols=tc).reindex(order.index).fillna(0)\n",
    "q_hourly = filters.completeness(df, periods=1, freq='h', traj_cols=tc).reindex(order.index).fillna(0)\n",
    "q_daily = filters.completeness(df, periods=1, freq='d', traj_cols=tc).reindex(order.index).fillna(0)\n",
    "\n",
    "fig, (ax1, ax2, ax3) = plt.subplots(1, 3, sharey=True, figsize=(12, 3))\n",
    "\n",
    "sns.kdeplot(q_15m, ax=ax1, bw_adjust=0.25, fill=True, color=\"green\")\n",
    "ax1.axvline(q_15m.median(), color='k', linestyle='--', linewidth=1)\n",
    "ax1.set_title('Completeness (15 min)')\n",
    "ax1.set_ylabel('Density')\n",
    "ax1.set_xlim((0,1))\n",
    "\n",
    "sns.kdeplot(q_hourly, ax=ax2, bw_adjust=0.25, fill=True, color=\"green\")\n",
    "ax2.axvline(q_hourly.median(), color='k', linestyle='--', linewidth=1)\n",
    "ax2.set_title('Completeness (Hourly)')\n",
    "ax2.set_xlim((0,1))\n",
    "\n",
    "sns.kdeplot(q_daily, ax=ax3, bw_adjust=0.25, fill=True, color=\"green\")\n",
    "ax3.axvline(q_daily.median(), color='k', linestyle='--', linewidth=1)\n",
    "ax3.set_title('Completeness (Daily)')\n",
    "ax3.set_xlim((0,1))\n",
    "\n",
    "[ax.grid() for ax in (ax1, ax2, ax3)]\n",
    "plt.show()"
   ]
  },
  {
   "cell_type": "code",
   "execution_count": null,
   "id": "07023f5d-0c96-4a15-a18b-74ec413e23de",
   "metadata": {},
   "outputs": [],
   "source": [
    "fig.savefig('completeness_density_feb_apr.svg', format='svg')"
   ]
  },
  {
   "cell_type": "markdown",
   "id": "c37bc0cb-51c4-4f09-8bb6-40277a4c6b38",
   "metadata": {},
   "source": [
    "# stop detection & h3 attribution"
   ]
  },
  {
   "cell_type": "code",
   "execution_count": 4,
   "id": "c7a95ceb-8f91-49de-9415-fba16539274f",
   "metadata": {},
   "outputs": [],
   "source": [
    "from nomad.stop_detection import lachesis\n",
    "tc = dict(\n",
    "      latitude='lat',\n",
    "      longitude='lng',\n",
    "      timestamp='event_timestamp',\n",
    "      datetime='event_zoned_datetime',\n",
    "      date='date',\n",
    "      user_id='cuebiq_id'\n",
    ")"
   ]
  },
  {
   "cell_type": "markdown",
   "id": "38f5e4ee-caa1-45f1-8176-b3f9c5983358",
   "metadata": {},
   "source": [
    "### baseline period"
   ]
  },
  {
   "cell_type": "code",
   "execution_count": 5,
   "id": "24af38b3-560b-4939-8687-f67f0698fcae",
   "metadata": {},
   "outputs": [
    {
     "name": "stderr",
     "output_type": "stream",
     "text": [
      "/home/jovyan/nomad/nomad/io/base.py:538: UserWarning: The 'event_zoned_datetime' column is timezone-naive. Consider localizing or using unix timestamps.\n",
      "  warnings.warn(f\"The '{col}' column is timezone-naive. Consider localizing or using unix timestamps.\")\n"
     ]
    }
   ],
   "source": [
    "df = loader.from_file('base_pings_h3',\n",
    "                      format='parquet',\n",
    "                      traj_cols=tc)"
   ]
  },
  {
   "cell_type": "code",
   "execution_count": 6,
   "id": "82a3c944-1167-40a8-b634-15a73d843222",
   "metadata": {},
   "outputs": [
    {
     "name": "stderr",
     "output_type": "stream",
     "text": [
      "/home/jovyan/nomad/nomad/stop_detection/lachesis.py:225: FutureWarning: The behavior of DataFrame concatenation with empty or all-NA entries is deprecated. In a future version, this will no longer exclude empty or all-NA columns when determining the result dtypes. To retain the old behavior, exclude the relevant entries before the concat operation.\n",
      "  return pd.concat(results, ignore_index=True)\n"
     ]
    }
   ],
   "source": [
    "stops = lachesis.lachesis_per_user(\n",
    "            df,\n",
    "            dt_max=480,\n",
    "            delta_roam=50,\n",
    "            dur_min=5,\n",
    "            complete_output=True,\n",
    "            passthrough_cols=[\"classification_type\", \"tz_offset\", \"date\"],\n",
    "            traj_cols=tc,\n",
    "        )"
   ]
  },
  {
   "cell_type": "code",
   "execution_count": 7,
   "id": "d7bb42dc-4971-455f-a14b-23becdca7cdf",
   "metadata": {},
   "outputs": [
    {
     "name": "stderr",
     "output_type": "stream",
     "text": [
      "/home/jovyan/nomad/nomad/io/base.py:104: UserWarning: Trajectory column 'event_zoned_datetime' specified for 'datetime' not found in DataFrame.\n",
      "  warnings.warn(f\"Trajectory column '{value}' specified for '{key}' not found in DataFrame.\")\n",
      "/home/jovyan/nomad/nomad/io/base.py:1414: UserWarning: Parent directory './base_stops' does not exist and will be created.\n",
      "  warnings.warn(f\"Parent directory '{parent_dir}' does not exist and will be created.\")\n"
     ]
    }
   ],
   "source": [
    "loader.to_file(stops, \"./base_stops/\", format=\"parquet\", partition_by=[\"date\"], traj_cols=tc)"
   ]
  },
  {
   "cell_type": "markdown",
   "id": "ab60ae06-fddd-4b12-9a7f-9c7d455fd14c",
   "metadata": {},
   "source": [
    "### jan-feb"
   ]
  },
  {
   "cell_type": "code",
   "execution_count": 8,
   "id": "90ca5e6c-5da2-4053-92de-ba92e2812f21",
   "metadata": {},
   "outputs": [
    {
     "name": "stderr",
     "output_type": "stream",
     "text": [
      "/home/jovyan/nomad/nomad/io/base.py:538: UserWarning: The 'event_zoned_datetime' column is timezone-naive. Consider localizing or using unix timestamps.\n",
      "  warnings.warn(f\"The '{col}' column is timezone-naive. Consider localizing or using unix timestamps.\")\n"
     ]
    }
   ],
   "source": [
    "df = loader.from_file('jan_feb_pings_h3',\n",
    "                      format='parquet',\n",
    "                      traj_cols=tc)"
   ]
  },
  {
   "cell_type": "code",
   "execution_count": 9,
   "id": "3af5f08a-95e3-40e8-8ff3-1b38c0185b5e",
   "metadata": {},
   "outputs": [
    {
     "name": "stdout",
     "output_type": "stream",
     "text": [
      "CPU times: user 4min 25s, sys: 99.9 ms, total: 4min 25s\n",
      "Wall time: 4min 25s\n"
     ]
    },
    {
     "name": "stderr",
     "output_type": "stream",
     "text": [
      "/home/jovyan/nomad/nomad/stop_detection/lachesis.py:225: FutureWarning: The behavior of DataFrame concatenation with empty or all-NA entries is deprecated. In a future version, this will no longer exclude empty or all-NA columns when determining the result dtypes. To retain the old behavior, exclude the relevant entries before the concat operation.\n",
      "  return pd.concat(results, ignore_index=True)\n"
     ]
    }
   ],
   "source": [
    "%%time\n",
    "stops = lachesis.lachesis_per_user(\n",
    "            df,\n",
    "            dt_max=480,\n",
    "            delta_roam=50,\n",
    "            dur_min=5,\n",
    "            complete_output=True,\n",
    "            passthrough_cols=[\"classification_type\", \"tz_offset\", \"date\"],\n",
    "            traj_cols=tc,\n",
    "        )"
   ]
  },
  {
   "cell_type": "code",
   "execution_count": 10,
   "id": "499279bb-b6f4-49d3-a9c3-c0afb1d9b906",
   "metadata": {},
   "outputs": [
    {
     "name": "stderr",
     "output_type": "stream",
     "text": [
      "/home/jovyan/nomad/nomad/io/base.py:104: UserWarning: Trajectory column 'event_zoned_datetime' specified for 'datetime' not found in DataFrame.\n",
      "  warnings.warn(f\"Trajectory column '{value}' specified for '{key}' not found in DataFrame.\")\n",
      "/home/jovyan/nomad/nomad/io/base.py:1414: UserWarning: Parent directory './jan_feb_stops' does not exist and will be created.\n",
      "  warnings.warn(f\"Parent directory '{parent_dir}' does not exist and will be created.\")\n"
     ]
    }
   ],
   "source": [
    "loader.to_file(stops, \"./jan_feb_stops/\", format=\"parquet\", traj_cols=tc)"
   ]
  },
  {
   "cell_type": "markdown",
   "id": "5443a715-db82-43a1-9601-e5d0d78ad7dc",
   "metadata": {},
   "source": [
    "### feb-apr"
   ]
  },
  {
   "cell_type": "code",
   "execution_count": 11,
   "id": "a3aab3a4-eb11-4a6a-9a6a-25203223e914",
   "metadata": {},
   "outputs": [
    {
     "name": "stderr",
     "output_type": "stream",
     "text": [
      "/home/jovyan/nomad/nomad/io/base.py:538: UserWarning: The 'event_zoned_datetime' column is timezone-naive. Consider localizing or using unix timestamps.\n",
      "  warnings.warn(f\"The '{col}' column is timezone-naive. Consider localizing or using unix timestamps.\")\n"
     ]
    }
   ],
   "source": [
    "df = loader.from_file('feb_apr_pings_h3',\n",
    "                      format='parquet',\n",
    "                      traj_cols=tc)"
   ]
  },
  {
   "cell_type": "code",
   "execution_count": 12,
   "id": "5fd9c562-4798-47f8-80cf-939014a3bfeb",
   "metadata": {},
   "outputs": [
    {
     "name": "stdout",
     "output_type": "stream",
     "text": [
      "CPU times: user 3min 47s, sys: 76 ms, total: 3min 47s\n",
      "Wall time: 3min 47s\n"
     ]
    },
    {
     "name": "stderr",
     "output_type": "stream",
     "text": [
      "/home/jovyan/nomad/nomad/stop_detection/lachesis.py:225: FutureWarning: The behavior of DataFrame concatenation with empty or all-NA entries is deprecated. In a future version, this will no longer exclude empty or all-NA columns when determining the result dtypes. To retain the old behavior, exclude the relevant entries before the concat operation.\n",
      "  return pd.concat(results, ignore_index=True)\n"
     ]
    }
   ],
   "source": [
    "%%time\n",
    "stops = lachesis.lachesis_per_user(\n",
    "            df,\n",
    "            dt_max=480,\n",
    "            delta_roam=50,\n",
    "            dur_min=5,\n",
    "            complete_output=True,\n",
    "            passthrough_cols=[\"classification_type\", \"tz_offset\", \"date\"],\n",
    "            traj_cols=tc,\n",
    "        )"
   ]
  },
  {
   "cell_type": "code",
   "execution_count": 13,
   "id": "6583ee81-f021-4395-aef6-fe58e7edb4b9",
   "metadata": {},
   "outputs": [
    {
     "name": "stderr",
     "output_type": "stream",
     "text": [
      "/home/jovyan/nomad/nomad/io/base.py:104: UserWarning: Trajectory column 'event_zoned_datetime' specified for 'datetime' not found in DataFrame.\n",
      "  warnings.warn(f\"Trajectory column '{value}' specified for '{key}' not found in DataFrame.\")\n",
      "/home/jovyan/nomad/nomad/io/base.py:1414: UserWarning: Parent directory './feb_apr_stops' does not exist and will be created.\n",
      "  warnings.warn(f\"Parent directory '{parent_dir}' does not exist and will be created.\")\n"
     ]
    }
   ],
   "source": [
    "loader.to_file(stops, \"./feb_apr_stops/\", format=\"parquet\", traj_cols=tc)"
   ]
  }
 ],
 "metadata": {
  "kernelspec": {
   "display_name": "Python 3 (ipykernel)",
   "language": "python",
   "name": "python3"
  },
  "language_info": {
   "codemirror_mode": {
    "name": "ipython",
    "version": 3
   },
   "file_extension": ".py",
   "mimetype": "text/x-python",
   "name": "python",
   "nbconvert_exporter": "python",
   "pygments_lexer": "ipython3",
   "version": "3.9.15"
  }
 },
 "nbformat": 4,
 "nbformat_minor": 5
}
