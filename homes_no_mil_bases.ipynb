{
 "cells": [
  {
   "cell_type": "code",
   "execution_count": 1,
   "id": "78c526b6-048a-4b88-8ad8-e7bb83a5a753",
   "metadata": {},
   "outputs": [],
   "source": [
    "from nomad.io import base as loader\n",
    "import pandas as pd\n",
    "import nomad.visit_attribution as visits\n",
    "import nomad.visit_attribution.home_attribution as homes\n",
    "import nomad.filters as filters\n",
    "\n",
    "tc = dict(\n",
    "      latitude='lat',\n",
    "      longitude='lng',\n",
    "      timestamp='event_timestamp',\n",
    "      date='date',\n",
    "      user_id='cuebiq_id'\n",
    ")"
   ]
  },
  {
   "cell_type": "markdown",
   "id": "45257739-d5dd-42fc-b58e-bb64206e45d3",
   "metadata": {},
   "source": [
    "## read in and clean the stop data"
   ]
  },
  {
   "cell_type": "code",
   "execution_count": 2,
   "id": "1613876a-39a0-4fac-8f2e-c0e2297941cf",
   "metadata": {},
   "outputs": [],
   "source": [
    "m_bases = pd.read_csv(\"m_bases_cells.csv\")"
   ]
  },
  {
   "cell_type": "code",
   "execution_count": 3,
   "id": "8be7d725-33cf-4f88-9b2d-1c2b31960bdd",
   "metadata": {},
   "outputs": [],
   "source": [
    "base_stops = loader.from_file(\"base_stops\", format=\"parquet\", traj_cols=tc)\n",
    "jan_feb_stops = loader.from_file(\"jan_feb_stops\", format=\"parquet\", traj_cols=tc)\n",
    "feb_apr_stops = loader.from_file(\"feb_apr_stops\", format=\"parquet\", traj_cols=tc)\n",
    "\n",
    "dfs = [base_stops, jan_feb_stops, feb_apr_stops]"
   ]
  },
  {
   "cell_type": "code",
   "execution_count": 4,
   "id": "3bc4c5f5-3f00-443c-825c-7bae9f98350f",
   "metadata": {},
   "outputs": [],
   "source": [
    "for df in dfs:\n",
    "    df['h3_cell'] = filters.to_tessellation(df, index=\"h3\", res=8, longitude=\"lng\", latitude=\"lat\")\n",
    "    df['sPOI'] = df['h3_cell'].isin(m_bases.h3_8)\n",
    "    # remove h3_cells from sensitive POIs\n",
    "    df.query(\"sPOI == False\", inplace=True)\n",
    "    df['start_datetime'] = loader.naive_datetime_from_unix_and_offset(df.event_timestamp, df.tz_offset)\n",
    "    df['end_datetime'] = loader.naive_datetime_from_unix_and_offset(df.end_timestamp, df.tz_offset)"
   ]
  },
  {
   "cell_type": "markdown",
   "id": "2db2882f-6145-4ad2-9db7-fc457b673fe2",
   "metadata": {},
   "source": [
    "### load california zip codes"
   ]
  },
  {
   "cell_type": "code",
   "execution_count": 5,
   "id": "2ae50813-5864-4347-b3c3-90128ff4ab43",
   "metadata": {},
   "outputs": [],
   "source": [
    "def k_nbr_cells(cells, k):\n",
    "    return list({nbr for h in cells for nbr in h3.grid_disk(h, k)})"
   ]
  },
  {
   "cell_type": "code",
   "execution_count": 6,
   "id": "6e848631-a348-4342-bcca-49c45d1f291d",
   "metadata": {},
   "outputs": [],
   "source": [
    "import geopandas as gpd\n",
    "import h3\n",
    "zip_codes_ca = gpd.read_file(\"zip_codes_ca.geojson\").set_index(\"geography_id\")\n",
    "altadena = zip_codes_ca.loc[['US.91001']]\n",
    "palisades = zip_codes_ca.loc[['US.90272']]"
   ]
  },
  {
   "cell_type": "code",
   "execution_count": 7,
   "id": "3f14023e-e4e0-48f7-a06e-2233fe72b4f9",
   "metadata": {},
   "outputs": [],
   "source": [
    "altadena_cells = h3.h3shape_to_cells_experimental(\n",
    "    h3.geo_to_h3shape(altadena.geometry.unary_union),\n",
    "    8,\n",
    "    contain='overlap')\n",
    "altadena_cells =  k_nbr_cells(altadena_cells, 2)\n",
    "\n",
    "palisades_cells = h3.h3shape_to_cells_experimental(\n",
    "    h3.geo_to_h3shape(palisades.geometry.unary_union),\n",
    "    8,\n",
    "    contain='overlap')\n",
    "palisades_cells = k_nbr_cells(palisades_cells, 2)"
   ]
  },
  {
   "cell_type": "code",
   "execution_count": 8,
   "id": "e8f26b23-6844-49c5-8337-5181e9a2d8f2",
   "metadata": {},
   "outputs": [],
   "source": [
    "cell_to_zip = {}\n",
    "for cell in altadena_cells:\n",
    "    cell_to_zip[cell] = 'US.91001'\n",
    "    \n",
    "for cell in palisades_cells:\n",
    "    cell_to_zip[cell] = 'US.90272'"
   ]
  },
  {
   "cell_type": "markdown",
   "id": "68f80f8c-0c03-41c6-98fa-7f0d3ba5a54d",
   "metadata": {},
   "source": [
    "## Find baseline home h3 and zip"
   ]
  },
  {
   "cell_type": "code",
   "execution_count": 9,
   "id": "802c7dc8-c1a0-4ddb-b91c-035661cec420",
   "metadata": {},
   "outputs": [],
   "source": [
    "import nomad.visit_attribution.home_attribution as homes\n",
    "\n",
    "cand_homes = homes.compute_candidate_homes(base_stops,\n",
    "                                           datetime=\"start_datetime\",\n",
    "                                           location_id=\"h3_cell\",\n",
    "                                           user_id=\"cuebiq_id\",\n",
    "                                           dawn_hour=8,\n",
    "                                           dusk_hour=17\n",
    "                                           )"
   ]
  },
  {
   "cell_type": "code",
   "execution_count": 10,
   "id": "fa947ab4-ec6d-4e69-b657-bc7458666730",
   "metadata": {},
   "outputs": [],
   "source": [
    "home_table = homes.select_home(cand_homes, min_days=3, min_weeks=2, stops_table=base_stops, user_id='cuebiq_id', location_id=\"h3_cell\")\n",
    "home_table['baseline_zip'] = home_table.h3_cell.map(cell_to_zip)\n",
    "home_table = home_table.rename(columns={\"h3_cell\":\"h3_cell_baseline\"}).drop(\"date_last_active\", axis=1)"
   ]
  },
  {
   "cell_type": "markdown",
   "id": "3d7ff8a8-e322-4f1b-8999-275438364a61",
   "metadata": {},
   "source": [
    "### jan-feb"
   ]
  },
  {
   "cell_type": "code",
   "execution_count": 12,
   "id": "d7b9531d-4bcc-4cb8-b43b-39c75d63765f",
   "metadata": {},
   "outputs": [],
   "source": [
    "cand_homes_jan_feb = homes.compute_candidate_homes(jan_feb_stops,\n",
    "                                           datetime=\"start_datetime\",\n",
    "                                           location_id=\"h3_cell\",\n",
    "                                           user_id=\"cuebiq_id\",\n",
    "                                           dawn_hour=8,\n",
    "                                           dusk_hour=17\n",
    "                                           )\n"
   ]
  },
  {
   "cell_type": "code",
   "execution_count": 13,
   "id": "d6be0780-10f2-4ce0-b5b9-14591de54bac",
   "metadata": {},
   "outputs": [],
   "source": [
    "home_table_jan_feb = homes.select_home(cand_homes_jan_feb, min_days=3, min_weeks=2, stops_table=jan_feb_stops, user_id='cuebiq_id', location_id=\"h3_cell\")\n",
    "homes_jan_feb = home_table_jan_feb.rename(columns={\"h3_cell\":\"h3_cell_jan_feb\"}).set_index(\"cuebiq_id\").h3_cell_jan_feb"
   ]
  },
  {
   "cell_type": "code",
   "execution_count": 14,
   "id": "d2cb2592-6507-4993-abff-44feb8d91367",
   "metadata": {},
   "outputs": [],
   "source": [
    "home_table = home_table.join(homes_jan_feb, on=\"cuebiq_id\")"
   ]
  },
  {
   "cell_type": "markdown",
   "id": "cb3e240b-116d-4e2a-858d-a453969ba381",
   "metadata": {},
   "source": [
    "### feb-apr"
   ]
  },
  {
   "cell_type": "code",
   "execution_count": 16,
   "id": "e1e751d2-3b47-4d7a-a955-ff495da71f9e",
   "metadata": {},
   "outputs": [],
   "source": [
    "cand_homes_feb_apr = homes.compute_candidate_homes(feb_apr_stops,\n",
    "                                           datetime=\"start_datetime\",\n",
    "                                           location_id=\"h3_cell\",\n",
    "                                           user_id=\"cuebiq_id\",\n",
    "                                           dawn_hour=8,\n",
    "                                           dusk_hour=17\n",
    "                                           )"
   ]
  },
  {
   "cell_type": "code",
   "execution_count": 17,
   "id": "13072509-60f7-4800-a067-34cd16fcc377",
   "metadata": {},
   "outputs": [],
   "source": [
    "home_table_feb_apr = homes.select_home(cand_homes_feb_apr, min_days=3, min_weeks=2, stops_table=feb_apr_stops, user_id='cuebiq_id', location_id=\"h3_cell\")\n",
    "homes_feb_apr = home_table_feb_apr.rename(columns={\"h3_cell\":\"h3_cell_feb_apr\"}).set_index(\"cuebiq_id\").h3_cell_feb_apr"
   ]
  },
  {
   "cell_type": "code",
   "execution_count": 18,
   "id": "07d3cffa-898d-4b5b-8242-8b73a2a46cbe",
   "metadata": {},
   "outputs": [],
   "source": [
    "home_table = home_table.join(homes_feb_apr, on=\"cuebiq_id\")"
   ]
  },
  {
   "cell_type": "markdown",
   "id": "d84b3eb9-8c23-425b-bd5b-1b8c8b2b6a0d",
   "metadata": {},
   "source": [
    "## persist home tables"
   ]
  },
  {
   "cell_type": "code",
   "execution_count": null,
   "id": "f33b79a3-065b-4cc8-b07a-b6698c9185f7",
   "metadata": {},
   "outputs": [],
   "source": [
    "home_table = home_table.loc[~home_table.baseline_zip.isna()].copy()\n",
    "home_table['jan_feb_zip'] = home_table.h3_cell_jan_feb.map(cell_to_zip)\n",
    "home_table['feb_apr_zip'] = home_table.h3_cell_feb_apr.map(cell_to_zip)"
   ]
  },
  {
   "cell_type": "code",
   "execution_count": 25,
   "id": "c4fd9e38-cfca-447d-a93d-723c12135213",
   "metadata": {},
   "outputs": [
    {
     "data": {
      "text/plain": [
       "baseline_zip\n",
       "US.91001    109\n",
       "US.90272     52\n",
       "Name: count, dtype: int64"
      ]
     },
     "execution_count": 25,
     "metadata": {},
     "output_type": "execute_result"
    }
   ],
   "source": [
    "home_table.baseline_zip.value_counts()"
   ]
  },
  {
   "cell_type": "code",
   "execution_count": 26,
   "id": "4f9d2d7a-1d0b-498a-b880-016cc12196f0",
   "metadata": {},
   "outputs": [
    {
     "data": {
      "text/plain": [
       "jan_feb_zip\n",
       "US.91001    29\n",
       "US.90272    11\n",
       "Name: count, dtype: int64"
      ]
     },
     "execution_count": 26,
     "metadata": {},
     "output_type": "execute_result"
    }
   ],
   "source": [
    "home_table.jan_feb_zip.value_counts()"
   ]
  },
  {
   "cell_type": "code",
   "execution_count": 27,
   "id": "2e477b1f-a8d5-4e0d-9cd5-b397f340d72e",
   "metadata": {},
   "outputs": [
    {
     "data": {
      "text/plain": [
       "feb_apr_zip\n",
       "US.91001    33\n",
       "US.90272    12\n",
       "Name: count, dtype: int64"
      ]
     },
     "execution_count": 27,
     "metadata": {},
     "output_type": "execute_result"
    }
   ],
   "source": [
    "home_table.feb_apr_zip.value_counts()"
   ]
  },
  {
   "cell_type": "code",
   "execution_count": 28,
   "id": "414c372e-66ca-4300-ad83-625e87e8553d",
   "metadata": {},
   "outputs": [],
   "source": [
    "home_table[[\"cuebiq_id\",\"h3_cell_baseline\", \"h3_cell_jan_feb\",\n",
    "            \"h3_cell_feb_apr\", \"baseline_zip\", \"jan_feb_zip\",\n",
    "            \"feb_apr_zip\"]].to_csv(\"home_table.csv\", index=False)"
   ]
  }
 ],
 "metadata": {
  "kernelspec": {
   "display_name": "Python 3 (ipykernel)",
   "language": "python",
   "name": "python3"
  },
  "language_info": {
   "codemirror_mode": {
    "name": "ipython",
    "version": 3
   },
   "file_extension": ".py",
   "mimetype": "text/x-python",
   "name": "python",
   "nbconvert_exporter": "python",
   "pygments_lexer": "ipython3",
   "version": "3.9.15"
  }
 },
 "nbformat": 4,
 "nbformat_minor": 5
}
