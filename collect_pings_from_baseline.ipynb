{
 "cells": [
  {
   "cell_type": "code",
   "execution_count": null,
   "id": "f84340cd-4efb-4f85-b4e3-c302228e01a4",
   "metadata": {},
   "outputs": [],
   "source": [
    "%load_ext cuebiqmagic.magics"
   ]
  },
  {
   "cell_type": "code",
   "execution_count": null,
   "id": "93fc9267-3ea9-4e19-a025-75da39f10489",
   "metadata": {},
   "outputs": [],
   "source": [
    "%init_cuebiq_data \n",
    "import pandas as pd\n",
    "snow_engine = get_ipython().user_ns['instance']\n",
    "pd.set_option(\"display.max_columns\", 25)"
   ]
  },
  {
   "cell_type": "code",
   "execution_count": null,
   "id": "cb66ae6c-4f71-4c58-a46d-8f4d4341bb29",
   "metadata": {},
   "outputs": [],
   "source": [
    "import geopandas as gpd\n",
    "from datetime import datetime, date, timedelta\n",
    "from tqdm import tqdm\n",
    "import gc\n",
    "from pathlib import Path"
   ]
  },
  {
   "cell_type": "code",
   "execution_count": null,
   "id": "f1f740e5-53ac-4105-8ad9-3914bbe936cf",
   "metadata": {
    "tags": []
   },
   "outputs": [],
   "source": [
    "def numerical_date_range(start_date: int, end_date: int):\n",
    "    \"\"\"Return every calendar day from start_date to end_date inclusive, each as an int YYYYMMDD.\"\"\"\n",
    "    s = str(start_date)\n",
    "    e = str(end_date)\n",
    "    start_dt = date(int(s[:4]), int(s[4:6]), int(s[6:]))\n",
    "    end_dt   = date(int(e[:4]), int(e[4:6]), int(e[6:]))\n",
    "    if start_dt > end_dt:\n",
    "        raise ValueError(\"start_date must not be after end_date\")\n",
    "    span = (end_dt - start_dt).days\n",
    "    return [int((start_dt + timedelta(days=i)).strftime(\"%Y%m%d\")) for i in range(span + 1)]"
   ]
  },
  {
   "cell_type": "markdown",
   "id": "b9d5eb38-9fa7-4ed1-ba2d-5430c898fa13",
   "metadata": {},
   "source": [
    "## Polygon objects"
   ]
  },
  {
   "cell_type": "code",
   "execution_count": null,
   "id": "57c377d1-81eb-4f23-bf56-a0e13a90e650",
   "metadata": {},
   "outputs": [],
   "source": [
    "geo_table = \"CUEBIQ_DATA.PAAS_CDA_PE_V3.GEOGRAPHY_REGISTRY\"\n",
    "zip_codes_ca_table = \"DEDICATED.PACOB.ZIP_CODES_CA\""
   ]
  },
  {
   "cell_type": "code",
   "execution_count": null,
   "id": "bbd6ccec-29ec-45bf-8011-84e4e2aec73b",
   "metadata": {},
   "outputs": [],
   "source": [
    "zip_codes_ca_q = f'''SELECT * \n",
    "                    FROM {geo_table}\n",
    "                    WHERE country_code = 'US' AND\n",
    "                    geography_type_code = 'zipcode' AND\n",
    "                    (substr(geography_id,1,5)) IN ('US.90', 'US.91', 'US.92', 'US.93', 'US.94', 'US.95', 'US.96')\n",
    "            '''\n",
    "zip_codes_ca = snow_engine.read_sql(zip_codes_ca_q)\n",
    "zip_codes_ca['geometry'] = gpd.GeoSeries.from_wkt(zip_codes_ca.geometry_wkt)"
   ]
  },
  {
   "cell_type": "code",
   "execution_count": null,
   "id": "06fde70d-3b97-42f8-8c54-f4f7e8172632",
   "metadata": {},
   "outputs": [],
   "source": [
    "wkts_zips = gpd.GeoSeries(zip_codes_ca.loc[zip_codes_ca.geography_id.isin(['US.91001','US.90272'])].geometry).to_wkt()\n",
    "print(wkts_zips.iloc[1])"
   ]
  },
  {
   "cell_type": "code",
   "execution_count": null,
   "id": "cb7de50c-6bd4-4f13-8077-030170f5bcb0",
   "metadata": {},
   "outputs": [],
   "source": [
    "baseline_pings_by_nights = 'DEDICATED.PACOB.BASELINE_PINGS_BY_NIGHTS'\n",
    "jan_feb_pings_by_nights =  'DEDICATED.PACOB.JAN_FEB_PINGS_BY_NIGHTS'\n",
    "feb_apr_pings_by_nights =  'DEDICATED.PACOB.FEB_APR_PINGS_BY_NIGHTS'"
   ]
  },
  {
   "cell_type": "markdown",
   "id": "0980f092-a20a-4ce8-b56d-730af53acd7d",
   "metadata": {},
   "source": [
    "# Get pings for different periods"
   ]
  },
  {
   "cell_type": "code",
   "execution_count": null,
   "id": "2882a958-2e8f-4cda-ad2f-7e9b67c08a19",
   "metadata": {},
   "outputs": [],
   "source": [
    "users_by_nights = 'DEDICATED.PACOB.LA_BASELINE_USERS_BY_NIGHTS'\n",
    "zip_codes_ca_table = \"DEDICATED.PACOB.ZIP_CODES_CA\"\n",
    "ping_table = 'CUEBIQ_DATA.PAAS_CDA_PE_V3.DEVICE_LOCATION_UPLEVELLED'"
   ]
  },
  {
   "cell_type": "code",
   "execution_count": null,
   "id": "0d6626af-714a-495a-af12-80e4ac4c645c",
   "metadata": {},
   "outputs": [],
   "source": [
    "def pings_from_users_in_zips(ping_table: str,\n",
    "                users_table: str,\n",
    "                zip_table: str,\n",
    "                processing_date: int,\n",
    "                provider: str,\n",
    "                date_range):\n",
    "    start_date, end_date = date_range\n",
    "    event_start = (datetime.strptime(str(start_date), \"%Y%m%d\").date())\n",
    "    event_end = (datetime.strptime(str(end_date), \"%Y%m%d\").date() - timedelta(days=5))\n",
    "    event_end = max(event_start, event_end)\n",
    "    \n",
    "    event_start, event_end = event_start.strftime(\"%Y%m%d\"), event_end.strftime(\"%Y%m%d\")\n",
    "    return f\"\"\"\n",
    "SELECT\n",
    "    S.CUEBIQ_ID,\n",
    "    H.EVENT_TIMESTAMP,\n",
    "    H.EVENT_ZONED_DATETIME,\n",
    "    H.LNG,\n",
    "    H.LAT,\n",
    "    H.ACCURACY_METERS,\n",
    "    H.CLASSIFICATION_TYPE,\n",
    "    COALESCE(Z.GEOGRAPHY_ID, 'OUTSIDE') AS ZIPCODE_ID\n",
    "FROM {ping_table}               H\n",
    "JOIN {users_table}              S  ON H.CUEBIQ_ID = S.CUEBIQ_ID\n",
    "LEFT JOIN {zip_table}           Z  ON ST_WITHIN(\n",
    "                                      ST_MAKEPOINT(H.LNG, H.LAT),\n",
    "                                      TO_GEOGRAPHY(Z.GEOG))\n",
    "WHERE H.PROCESSING_DATE = {processing_date}\n",
    "  AND H.COUNTRY_CODE   = 'US'\n",
    "  AND H.PROVIDER_ID    = '{provider}'\n",
    "  AND TO_DATE(TO_TIMESTAMP_TZ(H.EVENT_ZONED_DATETIME))\n",
    "      BETWEEN TO_DATE('{event_start}','YYYYMMDD') AND TO_DATE('{event_end}','YYYYMMDD')\n",
    "\"\"\""
   ]
  },
  {
   "cell_type": "markdown",
   "id": "e0c4e9d8-d0ee-4398-b82d-189aa95086c8",
   "metadata": {},
   "source": [
    "## Pings for baseline users"
   ]
  },
  {
   "cell_type": "code",
   "execution_count": null,
   "id": "bf911d93-9d9e-4a2d-a8b0-1ae0b08c5408",
   "metadata": {},
   "outputs": [],
   "source": [
    "baseline_pings_by_nights = 'DEDICATED.PACOB.BASELINE_PINGS_BY_NIGHTS'"
   ]
  },
  {
   "cell_type": "code",
   "execution_count": null,
   "id": "9a523491-6b70-4508-98c1-c8016f2a46b7",
   "metadata": {},
   "outputs": [],
   "source": [
    "snow_engine.execute_statement(f'CREATE OR REPLACE TABLE {baseline_pings_by_nights} (cuebiq_id STRING, event_timestamp INT, EVENT_ZONED_DATETIME STRING, LAT FLOAT, LNG FLOAT, ACCURACY_METERS FLOAT, CLASSIFICATION_TYPE STRING, ZIPCODE_ID STRING)')"
   ]
  },
  {
   "cell_type": "code",
   "execution_count": null,
   "id": "373a5886-5486-4822-950e-9b22fef8e9e8",
   "metadata": {},
   "outputs": [],
   "source": [
    "# loop dimensions\n",
    "providers = ['SIERRA', 'WHISKEY']\n",
    "\n",
    "date_start = 20241126\n",
    "date_end = 20250107 + 5\n",
    "dates     = numerical_date_range(date_start, date_end)\n",
    "\n",
    "base = Path('BASELINE_PINGS_BY_NIGHTS')\n",
    "base.mkdir(exist_ok=True)\n",
    "\n",
    "for d in tqdm(dates, desc='processing dates'):\n",
    "    day_frames = []\n",
    "    for provider in providers:\n",
    "        sql = pings_from_users_in_zips(ping_table,\n",
    "                                       users_by_nights,\n",
    "                                       zip_codes_ca_table,\n",
    "                                       d,\n",
    "                                       provider,\n",
    "                                       (date_start, date_end))\n",
    "        chunk = snow_engine.read_sql(sql)\n",
    "        chunk['provider'] = provider          # keep track of the provider in the output\n",
    "        day_frames.append(chunk)\n",
    "\n",
    "    day_df = pd.concat(day_frames, ignore_index=True)\n",
    "\n",
    "    out_dir = base / f'processing_date={d}'\n",
    "    out_dir.mkdir(parents=True, exist_ok=True)\n",
    "    day_df.to_parquet(out_dir / 'data.parquet', index=False)\n",
    "\n",
    "    del day_df, day_frames\n",
    "    gc.collect()"
   ]
  },
  {
   "cell_type": "markdown",
   "id": "1d2d5ef0-353a-41f4-b998-10db53d66f02",
   "metadata": {},
   "source": [
    "## Pings for jan-feb users"
   ]
  },
  {
   "cell_type": "code",
   "execution_count": null,
   "id": "3e681f08-aae5-4377-b11c-d686dbda9213",
   "metadata": {},
   "outputs": [],
   "source": [
    "jan_feb_pings_by_nights = 'DEDICATED.PACOB.JAN_FEB_PINGS_BY_NIGHTS'"
   ]
  },
  {
   "cell_type": "code",
   "execution_count": null,
   "id": "9d831548-d64f-4b0f-a339-92c4ba5b6ada",
   "metadata": {},
   "outputs": [],
   "source": [
    "snow_engine.execute_statement(f'CREATE OR REPLACE TABLE {jan_feb_pings_by_nights} (cuebiq_id STRING, event_timestamp INT, EVENT_ZONED_DATETIME STRING, LAT FLOAT, LNG FLOAT, ACCURACY_METERS FLOAT, CLASSIFICATION_TYPE STRING, ZIPCODE_ID STRING)')"
   ]
  },
  {
   "cell_type": "code",
   "execution_count": null,
   "id": "b3aaeb84-c5db-4c79-9f9f-b2c8a6584795",
   "metadata": {},
   "outputs": [],
   "source": [
    "# loop dimensions\n",
    "providers = ['WHISKEY', 'SIERRA']\n",
    "\n",
    "date_start = 20250112\n",
    "date_end = 20250218 + 5 # 6 weeks + 5 days\n",
    "dates     = numerical_date_range(date_start, date_end)\n",
    "\n",
    "base = Path('JAN_FEB_PINGS_BY_NIGHTS')\n",
    "base.mkdir(exist_ok=True)\n",
    "\n",
    "for d in tqdm(dates, desc='processing dates'):\n",
    "    day_frames = []\n",
    "    for provider in providers:\n",
    "        sql = pings_from_users_in_zips(ping_table,\n",
    "                                       users_by_nights,\n",
    "                                       zip_codes_ca_table,\n",
    "                                       d,\n",
    "                                       provider,\n",
    "                                       (date_start, date_end))\n",
    "        chunk = snow_engine.read_sql(sql)\n",
    "        chunk['provider'] = provider          # keep track of the provider in the output\n",
    "        day_frames.append(chunk)\n",
    "\n",
    "    day_df = pd.concat(day_frames, ignore_index=True)\n",
    "\n",
    "    out_dir = base / f'processing_date={d}'\n",
    "    out_dir.mkdir(parents=True, exist_ok=True)\n",
    "    day_df.to_parquet(out_dir / 'data.parquet', index=False)\n",
    "\n",
    "    del day_df, day_frames\n",
    "    gc.collect()"
   ]
  },
  {
   "cell_type": "markdown",
   "id": "8d34f16c-9fca-4472-9085-c8ddc5f280e9",
   "metadata": {},
   "source": [
    "## Pings for feb-apr users"
   ]
  },
  {
   "cell_type": "code",
   "execution_count": null,
   "id": "a20cef79-ee3d-4ff7-ae64-4624a4349a5b",
   "metadata": {},
   "outputs": [],
   "source": [
    "jan_feb_pings_by_nights = 'DEDICATED.PACOB.FEB_APR_PINGS_BY_NIGHTS'"
   ]
  },
  {
   "cell_type": "code",
   "execution_count": null,
   "id": "f6516482-2108-4214-b301-ec8f5b118002",
   "metadata": {},
   "outputs": [],
   "source": [
    "snow_engine.execute_statement(f'CREATE OR REPLACE TABLE {jan_feb_pings_by_nights} (cuebiq_id STRING, event_timestamp INT, EVENT_ZONED_DATETIME STRING, LAT FLOAT, LNG FLOAT, ACCURACY_METERS FLOAT, CLASSIFICATION_TYPE STRING, ZIPCODE_ID STRING)')"
   ]
  },
  {
   "cell_type": "code",
   "execution_count": null,
   "id": "b83ea1dc-d85d-4819-b9fb-33f8afcd1f72",
   "metadata": {},
   "outputs": [],
   "source": [
    "# loop dimensions\n",
    "providers = ['WHISKEY', 'SIERRA']\n",
    "\n",
    "date_start = 20250219\n",
    "date_end = 20250402 + 5 # 6 weeks + 5 days\n",
    "dates     = numerical_date_range(date_start, date_end)\n",
    "\n",
    "base = Path('FEB_APR_PINGS_BY_NIGHTS')\n",
    "base.mkdir(exist_ok=True)\n",
    "\n",
    "for d in tqdm(dates, desc='processing dates'):\n",
    "    day_frames = []\n",
    "    for provider in providers:\n",
    "        sql = pings_from_users_in_zips(ping_table,\n",
    "                                       users_by_nights,\n",
    "                                       zip_codes_ca_table,\n",
    "                                       d,\n",
    "                                       provider,\n",
    "                                       (date_start, date_end))\n",
    "        chunk = snow_engine.read_sql(sql)\n",
    "        chunk['provider'] = provider          # keep track of the provider in the output\n",
    "        day_frames.append(chunk)\n",
    "\n",
    "    day_df = pd.concat(day_frames, ignore_index=True)\n",
    "\n",
    "    out_dir = base / f'processing_date={d}'\n",
    "    out_dir.mkdir(parents=True, exist_ok=True)\n",
    "    day_df.to_parquet(out_dir / 'data.parquet', index=False)\n",
    "\n",
    "    del day_df, day_frames\n",
    "    gc.collect()"
   ]
  }
 ],
 "metadata": {
  "kernelspec": {
   "display_name": "Python 3 (ipykernel)",
   "language": "python",
   "name": "python3"
  },
  "language_info": {
   "codemirror_mode": {
    "name": "ipython",
    "version": 3
   },
   "file_extension": ".py",
   "mimetype": "text/x-python",
   "name": "python",
   "nbconvert_exporter": "python",
   "pygments_lexer": "ipython3",
   "version": "3.9.15"
  }
 },
 "nbformat": 4,
 "nbformat_minor": 5
}
