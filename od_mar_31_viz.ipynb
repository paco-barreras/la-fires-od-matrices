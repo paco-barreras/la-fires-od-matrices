{
 "cells": [
  {
   "cell_type": "code",
   "execution_count": null,
   "id": "f9054c2a-0dcf-4abd-8229-b8a8316cde2a",
   "metadata": {},
   "outputs": [],
   "source": [
    "import matplotlib.pyplot as pyplot\n",
    "from IPython.core.display import HTML\n",
    "display(HTML(\"\"\"\n",
    "<style>\n",
    "table.dataframe {\n",
    "    margin-left: auto !important;\n",
    "    margin-right: auto !important;\n",
    "    /* optional: keep the table width no wider than its contents */\n",
    "    width: auto;\n",
    "}\n",
    "</style>\n",
    "\"\"\"))\n",
    "import pandas as pd\n",
    "pd.set_option(\"display.max_columns\", 10)\n",
    "pd.set_option(\"display.max_rows\", 15)\n",
    "import warnings\n",
    "warnings.filterwarnings(\"ignore\",message=\"Geometry is in a geographic CRS.*centroid.*\")\n",
    "\n",
    "import geopandas as gpd\n",
    "import numpy as np\n",
    "from normalization import normalize_od, normalized_remained, normalized_moved, top_k_destinations\n",
    "from viz import build_od_map_flat, build_od_map_pdk"
   ]
  },
  {
   "cell_type": "markdown",
   "id": "4945e709-5324-45cd-b9a1-89058a2536e3",
   "metadata": {},
   "source": [
    "## Load and normalize OD matrix"
   ]
  },
  {
   "cell_type": "code",
   "execution_count": null,
   "id": "e51cf727-c41a-4471-9a5d-2a3a207d95d2",
   "metadata": {},
   "outputs": [],
   "source": [
    "od_matrix = pd.read_csv('OD_BASELINE_MAR_31_HOMES.csv')\n",
    "\n",
    "# NORMALIZED OD WITH DP BUDGET OF eps=2\n",
    "od_perc = normalize_od(od_matrix,'zipcode_origin', 'zipcode_dest', 'count', diff_privacy_eps=2)\n",
    "# PERCENTAGES THAT REMAINED NORMALIZED WITH NO DP\n",
    "rem_perc = normalized_remained(od_matrix,'zipcode_origin', 'zipcode_dest', 'count')\n",
    "\n",
    "# PERCENTAGES THAT MOVED NORMALIZED WITH NO DP\n",
    "moved_perc = normalized_moved(od_matrix,'zipcode_origin', 'zipcode_dest', 'count', diff_privacy_eps=2)\n",
    "\n",
    "# Top-5 destination ZIP codes by (possibly-noisy) percentage\n",
    "top5_dest = top_k_destinations(moved_perc, 'zipcode_dest', 'percentage', k=5)"
   ]
  },
  {
   "cell_type": "markdown",
   "id": "27268dc9-0e43-4d2d-80a4-c04baac67fbd",
   "metadata": {},
   "source": [
    "## Zipcode data for CA"
   ]
  },
  {
   "cell_type": "code",
   "execution_count": null,
   "id": "18b54477-a4fb-4b36-8596-a6f650ba5b62",
   "metadata": {},
   "outputs": [],
   "source": [
    "california_zipcodes = gpd.read_file('zip_codes_ca.geojson')\n",
    "california_zipcodes = california_zipcodes.loc[california_zipcodes.geography_id.isin(od_matrix.zipcode_dest)].reset_index(drop=True)"
   ]
  },
  {
   "cell_type": "markdown",
   "id": "78752a43-d77b-48bc-9151-2a7c1519c94f",
   "metadata": {},
   "source": [
    "## Summary and map"
   ]
  },
  {
   "cell_type": "code",
   "execution_count": null,
   "id": "8f59a1b9-df0f-423a-978c-400c53ca1438",
   "metadata": {},
   "outputs": [],
   "source": [
    "od_perc.sort_values('percentage', ascending=False).set_index(['zipcode_origin', 'zipcode_dest']).head(8)"
   ]
  },
  {
   "cell_type": "code",
   "execution_count": null,
   "id": "cc26126b-ea37-453e-a5fa-b78398265436",
   "metadata": {},
   "outputs": [],
   "source": [
    "flat_map = build_od_map_flat(\n",
    "    polygons=california_zipcodes,\n",
    "    od_df=od_perc,   # raw counts table\n",
    "    origin=\"zipcode_origin\",\n",
    "    dest=\"zipcode_dest\",\n",
    "    weight=\"percentage\",\n",
    "    id_col=\"geography_id\",\n",
    ")\n",
    "flat_map"
   ]
  },
  {
   "cell_type": "code",
   "execution_count": null,
   "id": "39f39319-2c3f-4adf-931d-366d8b211247",
   "metadata": {},
   "outputs": [],
   "source": [
    "# ----------------- build map (no legend) --------------------------------\n",
    "deck = build_od_map_pdk(\n",
    "    california_zipcodes, moved_perc,\n",
    "    origin=\"zipcode_origin\", dest=\"zipcode_dest\",\n",
    "    pct=\"percentage\", id_col=\"geography_id\",\n",
    "    min_flow=2,\n",
    ")\n",
    "deck"
   ]
  },
  {
   "cell_type": "code",
   "execution_count": null,
   "id": "2ba2d93c-da16-4b7f-94ab-75b5e7baa5e2",
   "metadata": {},
   "outputs": [],
   "source": []
  }
 ],
 "metadata": {
  "kernelspec": {
   "display_name": "Python 3 (ipykernel)",
   "language": "python",
   "name": "python3"
  },
  "language_info": {
   "codemirror_mode": {
    "name": "ipython",
    "version": 3
   },
   "file_extension": ".py",
   "mimetype": "text/x-python",
   "name": "python",
   "nbconvert_exporter": "python",
   "pygments_lexer": "ipython3",
   "version": "3.9.15"
  }
 },
 "nbformat": 4,
 "nbformat_minor": 5
}
