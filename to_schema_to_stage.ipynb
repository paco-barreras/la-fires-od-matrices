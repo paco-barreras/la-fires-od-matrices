{
 "cells": [
  {
   "cell_type": "code",
   "execution_count": null,
   "id": "7fa71e5a-e4f2-4542-9a04-7e3ec3537d84",
   "metadata": {},
   "outputs": [],
   "source": [
    "import pandas as pd\n",
    "import sys\n",
    "import os\n",
    "import glob\n",
    "\n",
    "%load_ext cuebiqmagic.magics\n",
    "%init_cuebiq_data \n",
    "snow_engine = get_ipython().user_ns['instance']"
   ]
  },
  {
   "cell_type": "code",
   "execution_count": null,
   "id": "e4ba56de-0ccb-4486-b8c8-c26a2f78a956",
   "metadata": {},
   "outputs": [],
   "source": [
    "engine = getattr(snow_engine, \"engine\", None) \\\n",
    "      or getattr(snow_engine, \"connection\", None)"
   ]
  },
  {
   "cell_type": "code",
   "execution_count": null,
   "id": "b2ed5915-d54e-4bba-b599-6be0301b8359",
   "metadata": {},
   "outputs": [],
   "source": [
    "plinio_schema = 'DEDICATED.PLINIO_LA_FIRES_EXPORTS'"
   ]
  },
  {
   "cell_type": "code",
   "execution_count": null,
   "id": "eadcf13a-ce24-4a66-b584-acd08bfa87f8",
   "metadata": {},
   "outputs": [],
   "source": [
    "ddl = f\"CREATE SCHEMA IF NOT EXISTS {plinio_schema}\"\n",
    "snow_engine.execute_statement(ddl)"
   ]
  },
  {
   "cell_type": "code",
   "execution_count": null,
   "id": "f58ef773-b5c3-4bdd-aec1-01fe26bf2e9b",
   "metadata": {},
   "outputs": [],
   "source": [
    "table_names = []\n",
    "for path in glob.glob(\"./od_matrices/*.csv\"):\n",
    "    table_name = os.path.splitext(os.path.basename(path))[0].replace(\"=\", \"_\")\n",
    "    table_names.append(table_name)\n",
    "    df = pd.read_csv(path)\n",
    "    snow_engine.write_dataframe(df, table_name, schema=plinio_schema)"
   ]
  },
  {
   "cell_type": "markdown",
   "id": "d7134e4e-d82a-4967-9bd7-e6f2613ab2ce",
   "metadata": {},
   "source": [
    "## Move to export stage"
   ]
  },
  {
   "cell_type": "code",
   "execution_count": null,
   "id": "62dd6fa3-1b33-482d-a2d5-107a91421043",
   "metadata": {},
   "outputs": [],
   "source": [
    "q = '''SELECT table_name\n",
    "FROM   DEDICATED.INFORMATION_SCHEMA.TABLES\n",
    "WHERE  table_schema = 'PLINIO_LA_FIRES_EXPORTS'\n",
    "  AND  table_type   = 'BASE TABLE'\n",
    "ORDER  BY table_name\n",
    "'''\n",
    "all_tables = snow_engine.read_sql(q)"
   ]
  },
  {
   "cell_type": "code",
   "execution_count": null,
   "id": "5b60f9fd-162d-4ba8-94be-a2e0623e62d7",
   "metadata": {},
   "outputs": [],
   "source": [
    "all_tables.table_name"
   ]
  },
  {
   "cell_type": "code",
   "execution_count": null,
   "id": "803c89a5-d917-4888-9658-3d98d2f6fad8",
   "metadata": {},
   "outputs": [],
   "source": [
    "export_stage = '@dedicated.spectus_s3_export.spectus_s3_export/la-fires/'\n",
    "origin_schema = 'DEDICATED.PLINIO_LA_FIRES_EXPORTS'"
   ]
  },
  {
   "cell_type": "code",
   "execution_count": null,
   "id": "81c9081b-a8eb-4a4f-acec-2dbdd2cc5ca9",
   "metadata": {},
   "outputs": [],
   "source": [
    "for table in all_tables.table_name:\n",
    "    orig = origin_schema + '.\"' + table + '\"'\n",
    "    dest = export_stage + table + '/'\n",
    "    export_q = f'''\n",
    "    COPY INTO {dest}\n",
    "    FROM {orig}\n",
    "    FILE_FORMAT = (TYPE = PARQUET  COMPRESSION = SNAPPY)\n",
    "    MAX_FILE_SIZE = 5000000000;\n",
    "    '''\n",
    "    print(\"executing query: \\n\", export_q)\n",
    "    snow_engine.execute_statement(export_q)\n",
    "    print(\"executed...\")"
   ]
  },
  {
   "cell_type": "code",
   "execution_count": null,
   "id": "87fc2c68-dbf2-4d9c-8b0e-054e84ceff47",
   "metadata": {},
   "outputs": [],
   "source": []
  }
 ],
 "metadata": {
  "kernelspec": {
   "display_name": "Python 3 (ipykernel)",
   "language": "python",
   "name": "python3"
  },
  "language_info": {
   "codemirror_mode": {
    "name": "ipython",
    "version": 3
   },
   "file_extension": ".py",
   "mimetype": "text/x-python",
   "name": "python",
   "nbconvert_exporter": "python",
   "pygments_lexer": "ipython3",
   "version": "3.9.15"
  }
 },
 "nbformat": 4,
 "nbformat_minor": 5
}
