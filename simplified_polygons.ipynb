{
 "cells": [
  {
   "cell_type": "code",
   "execution_count": null,
   "id": "f13a0aac-8bb6-4fa0-8335-9c1b2239fa2c",
   "metadata": {},
   "outputs": [],
   "source": [
    "%load_ext cuebiqmagic.magics"
   ]
  },
  {
   "cell_type": "code",
   "execution_count": null,
   "id": "e6424098-139f-4056-bb01-cff482613c6e",
   "metadata": {},
   "outputs": [],
   "source": [
    "%init_cuebiq_data \n",
    "import pandas as pd\n",
    "snow_engine = get_ipython().user_ns['instance']\n",
    "pd.set_option(\"display.max_columns\", 25)"
   ]
  },
  {
   "cell_type": "code",
   "execution_count": null,
   "id": "c42dd5c1-268b-4d80-8f3a-1a7b55f76a81",
   "metadata": {},
   "outputs": [],
   "source": [
    "import geopandas as gpd\n",
    "import pandas as pd\n",
    "import nomad.io.snowflake as loader\n",
    "from datetime import datetime, date, timedelta"
   ]
  },
  {
   "cell_type": "code",
   "execution_count": null,
   "id": "9afa9d49-50b4-4526-9023-9950649b0e79",
   "metadata": {},
   "outputs": [],
   "source": [
    "geo_table = \"CUEBIQ_DATA.PAAS_CDA_PE_V3.GEOGRAPHY_REGISTRY\"\n",
    "loader.table_columns(snow_engine, geo_table)"
   ]
  },
  {
   "cell_type": "code",
   "execution_count": null,
   "id": "2d5274e7-b545-49af-9ce7-6ed7c6d3709f",
   "metadata": {},
   "outputs": [],
   "source": [
    "q = f\"\"\"SELECT * FROM {geo_table} WHERE\n",
    "        country_code = 'US' AND\n",
    "        geography_type_code = 'admin2' AND\n",
    "        geography_id = 'US.NY.109'\n",
    "    \"\"\"\n",
    "df = snow_engine.read_sql(q)"
   ]
  },
  {
   "cell_type": "code",
   "execution_count": null,
   "id": "5fd8409a-bda7-4f7e-ab76-fa84c1e4b24a",
   "metadata": {},
   "outputs": [],
   "source": [
    "# Get WKT\n",
    "la_poly = list(gpd.GeoSeries.from_wkt(df.geometry_wkt)[0].geoms)[0]\n",
    "la_poly.simplify(tolerance=0.006).wkt"
   ]
  },
  {
   "cell_type": "code",
   "execution_count": null,
   "id": "34ff2de3-5171-4a0d-a806-340419951c16",
   "metadata": {},
   "outputs": [],
   "source": [
    "ith_poly = gpd.GeoSeries.from_wkt(df.geometry_wkt)[0]"
   ]
  },
  {
   "cell_type": "code",
   "execution_count": null,
   "id": "3458b6df-8702-49c0-9753-2f23403b6f74",
   "metadata": {},
   "outputs": [],
   "source": [
    "ith_poly.simplify(tolerance=0.006).wkt"
   ]
  },
  {
   "cell_type": "code",
   "execution_count": null,
   "id": "9f5e3a12-20f8-4f5d-9cef-d2aee182ed7b",
   "metadata": {},
   "outputs": [],
   "source": []
  }
 ],
 "metadata": {
  "kernelspec": {
   "display_name": "Python 3 (ipykernel)",
   "language": "python",
   "name": "python3"
  },
  "language_info": {
   "codemirror_mode": {
    "name": "ipython",
    "version": 3
   },
   "file_extension": ".py",
   "mimetype": "text/x-python",
   "name": "python",
   "nbconvert_exporter": "python",
   "pygments_lexer": "ipython3",
   "version": "3.9.15"
  }
 },
 "nbformat": 4,
 "nbformat_minor": 5
}
