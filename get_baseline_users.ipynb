{
 "cells": [
  {
   "cell_type": "code",
   "execution_count": null,
   "id": "79008097-ed50-4853-9233-eef81ff2f523",
   "metadata": {},
   "outputs": [],
   "source": [
    "%%time\n",
    "\n",
    "from tqdm import tqdm\n",
    "\n",
    "providers = ['WHISKEY', 'SIERRA']\n",
    "start_date = 20241107\n",
    "end_date = 20250107\n",
    "date_range = integer_dates(start_date, end_date)\n",
    "\n",
    "provider_dfs = {}\n",
    "\n",
    "for provider in providers:\n",
    "    dfs = []\n",
    "    for day in tqdm(date_range, desc=f\"{provider} dates\"):\n",
    "        query = f'''\n",
    "            SELECT \n",
    "                S.CUEBIQ_ID, \n",
    "                H.EVENT_ZONED_DATETIME, \n",
    "                H.LNG, \n",
    "                H.LAT, \n",
    "                H.ACCURACY_METERS, \n",
    "                H.CLASSIFICATION_TYPE,\n",
    "                Z.geography_id AS ZIPCODE_ID\n",
    "            FROM {ping_table} H\n",
    "            JOIN {out_usr_table} S \n",
    "                ON H.CUEBIQ_ID = S.CUEBIQ_ID\n",
    "            JOIN {zip_codes_ca_name} Z\n",
    "                ON ST_WITHIN(ST_MAKEPOINT(H.LNG, H.LAT), TO_GEOGRAPHY(Z.GEOG))\n",
    "            WHERE H.PROCESSING_DATE = {day}\n",
    "              AND H.COUNTRY_CODE = 'US'\n",
    "              AND H.PROVIDER_ID = '{provider}'\n",
    "        '''\n",
    "        daily_df = snow_engine.read_sql(query)\n",
    "        dfs.append(daily_df)\n",
    "    provider_dfs[provider] = pd.concat(dfs, ignore_index=True)"
   ]
  }
 ],
 "metadata": {
  "kernelspec": {
   "display_name": "Python 3 (ipykernel)",
   "language": "python",
   "name": "python3"
  },
  "language_info": {
   "codemirror_mode": {
    "name": "ipython",
    "version": 3
   },
   "file_extension": ".py",
   "mimetype": "text/x-python",
   "name": "python",
   "nbconvert_exporter": "python",
   "pygments_lexer": "ipython3",
   "version": "3.9.15"
  }
 },
 "nbformat": 4,
 "nbformat_minor": 5
}
